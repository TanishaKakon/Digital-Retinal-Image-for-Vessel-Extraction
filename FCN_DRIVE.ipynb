{
 "cells": [
  {
   "cell_type": "code",
   "execution_count": 1,
   "id": "a82b0294",
   "metadata": {
    "scrolled": true
   },
   "outputs": [
    {
     "name": "stderr",
     "output_type": "stream",
     "text": [
      "Using TensorFlow backend.\n",
      "C:\\Users\\subah\\anaconda3\\envs\\py36\\lib\\site-packages\\tensorflow\\python\\framework\\dtypes.py:516: FutureWarning: Passing (type, 1) or '1type' as a synonym of type is deprecated; in a future version of numpy, it will be understood as (type, (1,)) / '(1,)type'.\n",
      "  _np_qint8 = np.dtype([(\"qint8\", np.int8, 1)])\n",
      "C:\\Users\\subah\\anaconda3\\envs\\py36\\lib\\site-packages\\tensorflow\\python\\framework\\dtypes.py:517: FutureWarning: Passing (type, 1) or '1type' as a synonym of type is deprecated; in a future version of numpy, it will be understood as (type, (1,)) / '(1,)type'.\n",
      "  _np_quint8 = np.dtype([(\"quint8\", np.uint8, 1)])\n",
      "C:\\Users\\subah\\anaconda3\\envs\\py36\\lib\\site-packages\\tensorflow\\python\\framework\\dtypes.py:518: FutureWarning: Passing (type, 1) or '1type' as a synonym of type is deprecated; in a future version of numpy, it will be understood as (type, (1,)) / '(1,)type'.\n",
      "  _np_qint16 = np.dtype([(\"qint16\", np.int16, 1)])\n",
      "C:\\Users\\subah\\anaconda3\\envs\\py36\\lib\\site-packages\\tensorflow\\python\\framework\\dtypes.py:519: FutureWarning: Passing (type, 1) or '1type' as a synonym of type is deprecated; in a future version of numpy, it will be understood as (type, (1,)) / '(1,)type'.\n",
      "  _np_quint16 = np.dtype([(\"quint16\", np.uint16, 1)])\n",
      "C:\\Users\\subah\\anaconda3\\envs\\py36\\lib\\site-packages\\tensorflow\\python\\framework\\dtypes.py:520: FutureWarning: Passing (type, 1) or '1type' as a synonym of type is deprecated; in a future version of numpy, it will be understood as (type, (1,)) / '(1,)type'.\n",
      "  _np_qint32 = np.dtype([(\"qint32\", np.int32, 1)])\n",
      "C:\\Users\\subah\\anaconda3\\envs\\py36\\lib\\site-packages\\tensorflow\\python\\framework\\dtypes.py:525: FutureWarning: Passing (type, 1) or '1type' as a synonym of type is deprecated; in a future version of numpy, it will be understood as (type, (1,)) / '(1,)type'.\n",
      "  np_resource = np.dtype([(\"resource\", np.ubyte, 1)])\n",
      "C:\\Users\\subah\\anaconda3\\envs\\py36\\lib\\site-packages\\tensorboard\\compat\\tensorflow_stub\\dtypes.py:541: FutureWarning: Passing (type, 1) or '1type' as a synonym of type is deprecated; in a future version of numpy, it will be understood as (type, (1,)) / '(1,)type'.\n",
      "  _np_qint8 = np.dtype([(\"qint8\", np.int8, 1)])\n",
      "C:\\Users\\subah\\anaconda3\\envs\\py36\\lib\\site-packages\\tensorboard\\compat\\tensorflow_stub\\dtypes.py:542: FutureWarning: Passing (type, 1) or '1type' as a synonym of type is deprecated; in a future version of numpy, it will be understood as (type, (1,)) / '(1,)type'.\n",
      "  _np_quint8 = np.dtype([(\"quint8\", np.uint8, 1)])\n",
      "C:\\Users\\subah\\anaconda3\\envs\\py36\\lib\\site-packages\\tensorboard\\compat\\tensorflow_stub\\dtypes.py:543: FutureWarning: Passing (type, 1) or '1type' as a synonym of type is deprecated; in a future version of numpy, it will be understood as (type, (1,)) / '(1,)type'.\n",
      "  _np_qint16 = np.dtype([(\"qint16\", np.int16, 1)])\n",
      "C:\\Users\\subah\\anaconda3\\envs\\py36\\lib\\site-packages\\tensorboard\\compat\\tensorflow_stub\\dtypes.py:544: FutureWarning: Passing (type, 1) or '1type' as a synonym of type is deprecated; in a future version of numpy, it will be understood as (type, (1,)) / '(1,)type'.\n",
      "  _np_quint16 = np.dtype([(\"quint16\", np.uint16, 1)])\n",
      "C:\\Users\\subah\\anaconda3\\envs\\py36\\lib\\site-packages\\tensorboard\\compat\\tensorflow_stub\\dtypes.py:545: FutureWarning: Passing (type, 1) or '1type' as a synonym of type is deprecated; in a future version of numpy, it will be understood as (type, (1,)) / '(1,)type'.\n",
      "  _np_qint32 = np.dtype([(\"qint32\", np.int32, 1)])\n",
      "C:\\Users\\subah\\anaconda3\\envs\\py36\\lib\\site-packages\\tensorboard\\compat\\tensorflow_stub\\dtypes.py:550: FutureWarning: Passing (type, 1) or '1type' as a synonym of type is deprecated; in a future version of numpy, it will be understood as (type, (1,)) / '(1,)type'.\n",
      "  np_resource = np.dtype([(\"resource\", np.ubyte, 1)])\n"
     ]
    }
   ],
   "source": [
    "import numpy as np \n",
    "import pandas as pd \n",
    "import os\n",
    "import glob\n",
    "import cv2\n",
    "import random\n",
    "import sys\n",
    "import shutil\n",
    "import re\n",
    "import matplotlib.pyplot as plt\n",
    "import matplotlib.image as mpimg\n",
    "from os import path\n",
    "from PIL import Image\n",
    "from keras.models import Model\n",
    "from keras.layers import Input, concatenate, Conv2D, MaxPooling2D, Conv2DTranspose\n",
    "from sklearn.utils import shuffle\n",
    "from sklearn.model_selection import train_test_split\n",
    "from keras import optimizers\n",
    "from keras.utils import to_categorical, plot_model\n",
    "from keras.layers import Dense, Input, Conv2D, Flatten, MaxPooling2D, Activation\n",
    "from keras.models import Model, Sequential\n",
    "from keras.layers import Activation, Dropout, Flatten, Dense\n",
    "from keras.callbacks import ModelCheckpoint\n",
    "from keras.optimizers import Adam, SGD, RMSprop\n",
    "from keras.applications.vgg16 import VGG16\n",
    "from keras.models import load_model\n",
    "from keras.utils import np_utils\n",
    "\n",
    "import tensorflow as tf\n",
    "from keras.backend.tensorflow_backend import set_session\n",
    "import keras, sys, time, warnings\n",
    "from keras.models import *\n",
    "from keras.layers import *\n",
    "import pandas as pd "
   ]
  },
  {
   "cell_type": "code",
   "execution_count": 2,
   "id": "frequent-welcome",
   "metadata": {},
   "outputs": [],
   "source": [
    "PATH = 'training'\n",
    "mask=glob.glob(os.path.join(PATH,'1st_manual','*.jpg'))"
   ]
  },
  {
   "cell_type": "code",
   "execution_count": 3,
   "id": "affiliated-wedding",
   "metadata": {},
   "outputs": [],
   "source": [
    "i=21\n",
    "k=-1\n",
    "for file in mask:\n",
    "    k+=1\n",
    "    img = cv2.imread('C:/Users/subah/fcn/training/1st_manual/'+str(i)+'_manual1.jpg')\n",
    "    gray = cv2.cvtColor(img, cv2.COLOR_BGR2GRAY)\n",
    "    img2 = np.zeros_like(img)\n",
    "    img2[:,:,0] = gray\n",
    "    img2[:,:,1] = gray\n",
    "    img2[:,:,2] = gray\n",
    "    cv2.imwrite('C:/Users/subah/fcn/training/1st_manual/'+str(i)+'_manual1.jpg', img2)\n",
    "    i+=1"
   ]
  },
  {
   "cell_type": "code",
   "execution_count": 4,
   "id": "cutting-christianity",
   "metadata": {},
   "outputs": [
    {
     "data": {
      "text/plain": [
       "(584, 565, 3)"
      ]
     },
     "execution_count": 4,
     "metadata": {},
     "output_type": "execute_result"
    }
   ],
   "source": [
    "img2.shape"
   ]
  },
  {
   "cell_type": "code",
   "execution_count": 5,
   "id": "99d7c475",
   "metadata": {},
   "outputs": [],
   "source": [
    "PATH = 'training'"
   ]
  },
  {
   "cell_type": "code",
   "execution_count": 6,
   "id": "proud-contamination",
   "metadata": {},
   "outputs": [],
   "source": [
    "images=glob.glob(os.path.join(PATH,'images','*.tif'))\n",
    "mask=glob.glob(os.path.join(PATH,'1st_manual','*.jpg'))\n",
    "if not os.path.exists('./training/output_images'):\n",
    "    os.makedirs('./training/output_images')\n",
    "if not os.path.exists('./training/output_1st_manual'):\n",
    "    os.makedirs('./training/output_1st_manual')\n",
    "src = \"./training/images/\"\n",
    "dst = \"./training/output_images/\"\n",
    "src1= \"./training/1st_manual/\"\n",
    "dst1 = \"./training/output_1st_manual/\""
   ]
  },
  {
   "cell_type": "code",
   "execution_count": 7,
   "id": "natural-functionality",
   "metadata": {},
   "outputs": [
    {
     "name": "stdout",
     "output_type": "stream",
     "text": [
      "training\\images\\21_training.tif (0, 0, 200, 200)\n",
      "training\\images\\21_training.tif (0, 200, 200, 400)\n",
      "training\\images\\21_training.tif (0, 400, 200, 600)\n",
      "training\\images\\21_training.tif (200, 0, 400, 200)\n",
      "training\\images\\21_training.tif (200, 200, 400, 400)\n",
      "training\\images\\21_training.tif (200, 400, 400, 600)\n",
      "training\\images\\21_training.tif (400, 0, 600, 200)\n",
      "training\\images\\21_training.tif (400, 200, 600, 400)\n",
      "training\\images\\21_training.tif (400, 400, 600, 600)\n",
      "training\\images\\22_training.tif (0, 0, 200, 200)\n",
      "training\\images\\22_training.tif (0, 200, 200, 400)\n",
      "training\\images\\22_training.tif (0, 400, 200, 600)\n",
      "training\\images\\22_training.tif (200, 0, 400, 200)\n",
      "training\\images\\22_training.tif (200, 200, 400, 400)\n",
      "training\\images\\22_training.tif (200, 400, 400, 600)\n",
      "training\\images\\22_training.tif (400, 0, 600, 200)\n",
      "training\\images\\22_training.tif (400, 200, 600, 400)\n",
      "training\\images\\22_training.tif (400, 400, 600, 600)\n",
      "training\\images\\23_training.tif (0, 0, 200, 200)\n",
      "training\\images\\23_training.tif (0, 200, 200, 400)\n",
      "training\\images\\23_training.tif (0, 400, 200, 600)\n",
      "training\\images\\23_training.tif (200, 0, 400, 200)\n",
      "training\\images\\23_training.tif (200, 200, 400, 400)\n",
      "training\\images\\23_training.tif (200, 400, 400, 600)\n",
      "training\\images\\23_training.tif (400, 0, 600, 200)\n",
      "training\\images\\23_training.tif (400, 200, 600, 400)\n",
      "training\\images\\23_training.tif (400, 400, 600, 600)\n",
      "training\\images\\24_training.tif (0, 0, 200, 200)\n",
      "training\\images\\24_training.tif (0, 200, 200, 400)\n",
      "training\\images\\24_training.tif (0, 400, 200, 600)\n",
      "training\\images\\24_training.tif (200, 0, 400, 200)\n",
      "training\\images\\24_training.tif (200, 200, 400, 400)\n",
      "training\\images\\24_training.tif (200, 400, 400, 600)\n",
      "training\\images\\24_training.tif (400, 0, 600, 200)\n",
      "training\\images\\24_training.tif (400, 200, 600, 400)\n",
      "training\\images\\24_training.tif (400, 400, 600, 600)\n",
      "training\\images\\25_training.tif (0, 0, 200, 200)\n",
      "training\\images\\25_training.tif (0, 200, 200, 400)\n",
      "training\\images\\25_training.tif (0, 400, 200, 600)\n",
      "training\\images\\25_training.tif (200, 0, 400, 200)\n",
      "training\\images\\25_training.tif (200, 200, 400, 400)\n",
      "training\\images\\25_training.tif (200, 400, 400, 600)\n",
      "training\\images\\25_training.tif (400, 0, 600, 200)\n",
      "training\\images\\25_training.tif (400, 200, 600, 400)\n",
      "training\\images\\25_training.tif (400, 400, 600, 600)\n",
      "training\\images\\26_training.tif (0, 0, 200, 200)\n",
      "training\\images\\26_training.tif (0, 200, 200, 400)\n",
      "training\\images\\26_training.tif (0, 400, 200, 600)\n",
      "training\\images\\26_training.tif (200, 0, 400, 200)\n",
      "training\\images\\26_training.tif (200, 200, 400, 400)\n",
      "training\\images\\26_training.tif (200, 400, 400, 600)\n",
      "training\\images\\26_training.tif (400, 0, 600, 200)\n",
      "training\\images\\26_training.tif (400, 200, 600, 400)\n",
      "training\\images\\26_training.tif (400, 400, 600, 600)\n",
      "training\\images\\27_training.tif (0, 0, 200, 200)\n",
      "training\\images\\27_training.tif (0, 200, 200, 400)\n",
      "training\\images\\27_training.tif (0, 400, 200, 600)\n",
      "training\\images\\27_training.tif (200, 0, 400, 200)\n",
      "training\\images\\27_training.tif (200, 200, 400, 400)\n",
      "training\\images\\27_training.tif (200, 400, 400, 600)\n",
      "training\\images\\27_training.tif (400, 0, 600, 200)\n",
      "training\\images\\27_training.tif (400, 200, 600, 400)\n",
      "training\\images\\27_training.tif (400, 400, 600, 600)\n",
      "training\\images\\28_training.tif (0, 0, 200, 200)\n",
      "training\\images\\28_training.tif (0, 200, 200, 400)\n",
      "training\\images\\28_training.tif (0, 400, 200, 600)\n",
      "training\\images\\28_training.tif (200, 0, 400, 200)\n",
      "training\\images\\28_training.tif (200, 200, 400, 400)\n",
      "training\\images\\28_training.tif (200, 400, 400, 600)\n",
      "training\\images\\28_training.tif (400, 0, 600, 200)\n",
      "training\\images\\28_training.tif (400, 200, 600, 400)\n",
      "training\\images\\28_training.tif (400, 400, 600, 600)\n",
      "training\\images\\29_training.tif (0, 0, 200, 200)\n",
      "training\\images\\29_training.tif (0, 200, 200, 400)\n",
      "training\\images\\29_training.tif (0, 400, 200, 600)\n",
      "training\\images\\29_training.tif (200, 0, 400, 200)\n",
      "training\\images\\29_training.tif (200, 200, 400, 400)\n",
      "training\\images\\29_training.tif (200, 400, 400, 600)\n",
      "training\\images\\29_training.tif (400, 0, 600, 200)\n",
      "training\\images\\29_training.tif (400, 200, 600, 400)\n",
      "training\\images\\29_training.tif (400, 400, 600, 600)\n",
      "training\\images\\30_training.tif (0, 0, 200, 200)\n",
      "training\\images\\30_training.tif (0, 200, 200, 400)\n",
      "training\\images\\30_training.tif (0, 400, 200, 600)\n",
      "training\\images\\30_training.tif (200, 0, 400, 200)\n",
      "training\\images\\30_training.tif (200, 200, 400, 400)\n",
      "training\\images\\30_training.tif (200, 400, 400, 600)\n",
      "training\\images\\30_training.tif (400, 0, 600, 200)\n",
      "training\\images\\30_training.tif (400, 200, 600, 400)\n",
      "training\\images\\30_training.tif (400, 400, 600, 600)\n",
      "training\\images\\31_training.tif (0, 0, 200, 200)\n",
      "training\\images\\31_training.tif (0, 200, 200, 400)\n",
      "training\\images\\31_training.tif (0, 400, 200, 600)\n",
      "training\\images\\31_training.tif (200, 0, 400, 200)\n",
      "training\\images\\31_training.tif (200, 200, 400, 400)\n",
      "training\\images\\31_training.tif (200, 400, 400, 600)\n",
      "training\\images\\31_training.tif (400, 0, 600, 200)\n",
      "training\\images\\31_training.tif (400, 200, 600, 400)\n",
      "training\\images\\31_training.tif (400, 400, 600, 600)\n",
      "training\\images\\32_training.tif (0, 0, 200, 200)\n",
      "training\\images\\32_training.tif (0, 200, 200, 400)\n",
      "training\\images\\32_training.tif (0, 400, 200, 600)\n",
      "training\\images\\32_training.tif (200, 0, 400, 200)\n",
      "training\\images\\32_training.tif (200, 200, 400, 400)\n",
      "training\\images\\32_training.tif (200, 400, 400, 600)\n",
      "training\\images\\32_training.tif (400, 0, 600, 200)\n",
      "training\\images\\32_training.tif (400, 200, 600, 400)\n",
      "training\\images\\32_training.tif (400, 400, 600, 600)\n",
      "training\\images\\33_training.tif (0, 0, 200, 200)\n",
      "training\\images\\33_training.tif (0, 200, 200, 400)\n",
      "training\\images\\33_training.tif (0, 400, 200, 600)\n",
      "training\\images\\33_training.tif (200, 0, 400, 200)\n",
      "training\\images\\33_training.tif (200, 200, 400, 400)\n",
      "training\\images\\33_training.tif (200, 400, 400, 600)\n",
      "training\\images\\33_training.tif (400, 0, 600, 200)\n",
      "training\\images\\33_training.tif (400, 200, 600, 400)\n",
      "training\\images\\33_training.tif (400, 400, 600, 600)\n",
      "training\\images\\34_training.tif (0, 0, 200, 200)\n",
      "training\\images\\34_training.tif (0, 200, 200, 400)\n",
      "training\\images\\34_training.tif (0, 400, 200, 600)\n",
      "training\\images\\34_training.tif (200, 0, 400, 200)\n",
      "training\\images\\34_training.tif (200, 200, 400, 400)\n",
      "training\\images\\34_training.tif (200, 400, 400, 600)\n",
      "training\\images\\34_training.tif (400, 0, 600, 200)\n",
      "training\\images\\34_training.tif (400, 200, 600, 400)\n",
      "training\\images\\34_training.tif (400, 400, 600, 600)\n",
      "training\\images\\35_training.tif (0, 0, 200, 200)\n",
      "training\\images\\35_training.tif (0, 200, 200, 400)\n",
      "training\\images\\35_training.tif (0, 400, 200, 600)\n",
      "training\\images\\35_training.tif (200, 0, 400, 200)\n",
      "training\\images\\35_training.tif (200, 200, 400, 400)\n",
      "training\\images\\35_training.tif (200, 400, 400, 600)\n",
      "training\\images\\35_training.tif (400, 0, 600, 200)\n",
      "training\\images\\35_training.tif (400, 200, 600, 400)\n",
      "training\\images\\35_training.tif (400, 400, 600, 600)\n",
      "training\\images\\36_training.tif (0, 0, 200, 200)\n",
      "training\\images\\36_training.tif (0, 200, 200, 400)\n",
      "training\\images\\36_training.tif (0, 400, 200, 600)\n",
      "training\\images\\36_training.tif (200, 0, 400, 200)\n",
      "training\\images\\36_training.tif (200, 200, 400, 400)\n",
      "training\\images\\36_training.tif (200, 400, 400, 600)\n",
      "training\\images\\36_training.tif (400, 0, 600, 200)\n",
      "training\\images\\36_training.tif (400, 200, 600, 400)\n",
      "training\\images\\36_training.tif (400, 400, 600, 600)\n",
      "training\\images\\37_training.tif (0, 0, 200, 200)\n",
      "training\\images\\37_training.tif (0, 200, 200, 400)\n",
      "training\\images\\37_training.tif (0, 400, 200, 600)\n",
      "training\\images\\37_training.tif (200, 0, 400, 200)\n",
      "training\\images\\37_training.tif (200, 200, 400, 400)\n",
      "training\\images\\37_training.tif (200, 400, 400, 600)\n",
      "training\\images\\37_training.tif (400, 0, 600, 200)\n",
      "training\\images\\37_training.tif (400, 200, 600, 400)\n",
      "training\\images\\37_training.tif (400, 400, 600, 600)\n",
      "training\\images\\38_training.tif (0, 0, 200, 200)\n",
      "training\\images\\38_training.tif (0, 200, 200, 400)\n",
      "training\\images\\38_training.tif (0, 400, 200, 600)\n",
      "training\\images\\38_training.tif (200, 0, 400, 200)\n",
      "training\\images\\38_training.tif (200, 200, 400, 400)\n",
      "training\\images\\38_training.tif (200, 400, 400, 600)\n",
      "training\\images\\38_training.tif (400, 0, 600, 200)\n",
      "training\\images\\38_training.tif (400, 200, 600, 400)\n",
      "training\\images\\38_training.tif (400, 400, 600, 600)\n",
      "training\\images\\39_training.tif (0, 0, 200, 200)\n",
      "training\\images\\39_training.tif (0, 200, 200, 400)\n",
      "training\\images\\39_training.tif (0, 400, 200, 600)\n",
      "training\\images\\39_training.tif (200, 0, 400, 200)\n",
      "training\\images\\39_training.tif (200, 200, 400, 400)\n",
      "training\\images\\39_training.tif (200, 400, 400, 600)\n",
      "training\\images\\39_training.tif (400, 0, 600, 200)\n",
      "training\\images\\39_training.tif (400, 200, 600, 400)\n",
      "training\\images\\39_training.tif (400, 400, 600, 600)\n",
      "training\\images\\40_training.tif (0, 0, 200, 200)\n",
      "training\\images\\40_training.tif (0, 200, 200, 400)\n",
      "training\\images\\40_training.tif (0, 400, 200, 600)\n",
      "training\\images\\40_training.tif (200, 0, 400, 200)\n",
      "training\\images\\40_training.tif (200, 200, 400, 400)\n",
      "training\\images\\40_training.tif (200, 400, 400, 600)\n",
      "training\\images\\40_training.tif (400, 0, 600, 200)\n"
     ]
    },
    {
     "name": "stdout",
     "output_type": "stream",
     "text": [
      "training\\images\\40_training.tif (400, 200, 600, 400)\n",
      "training\\images\\40_training.tif (400, 400, 600, 600)\n"
     ]
    }
   ],
   "source": [
    "cropheight=200\n",
    "cropwidth = 200\n",
    "k=-1\n",
    "for file in images:\n",
    "    k+=1\n",
    "    im = Image.open(images[k])\n",
    "    width, height = im.size\n",
    "    for i in range(0, width, cropwidth):\n",
    "     for j in range(0, height, cropheight): \n",
    "       box = (i, j,i+cropwidth, j+cropheight)\n",
    "       print('%s %s' % (images[k], box))\n",
    "       im.crop(box).save('%s.width%03d.height%03d.tiff' % (images[k], i, j))\n",
    "       files = [i for i in os.listdir(src) if i.endswith(\".tiff\") and path.isfile(path.join(src, i))]\n",
    "       for f in files:\n",
    "        shutil.move(path.join(src, f), dst)"
   ]
  },
  {
   "cell_type": "code",
   "execution_count": 8,
   "id": "nasty-gauge",
   "metadata": {},
   "outputs": [
    {
     "name": "stdout",
     "output_type": "stream",
     "text": [
      "training\\1st_manual\\21_manual1.jpg (0, 0, 200, 200)\n",
      "training\\1st_manual\\21_manual1.jpg (0, 200, 200, 400)\n",
      "training\\1st_manual\\21_manual1.jpg (0, 400, 200, 600)\n",
      "training\\1st_manual\\21_manual1.jpg (200, 0, 400, 200)\n",
      "training\\1st_manual\\21_manual1.jpg (200, 200, 400, 400)\n",
      "training\\1st_manual\\21_manual1.jpg (200, 400, 400, 600)\n",
      "training\\1st_manual\\21_manual1.jpg (400, 0, 600, 200)\n",
      "training\\1st_manual\\21_manual1.jpg (400, 200, 600, 400)\n",
      "training\\1st_manual\\21_manual1.jpg (400, 400, 600, 600)\n",
      "training\\1st_manual\\22_manual1.jpg (0, 0, 200, 200)\n",
      "training\\1st_manual\\22_manual1.jpg (0, 200, 200, 400)\n",
      "training\\1st_manual\\22_manual1.jpg (0, 400, 200, 600)\n",
      "training\\1st_manual\\22_manual1.jpg (200, 0, 400, 200)\n",
      "training\\1st_manual\\22_manual1.jpg (200, 200, 400, 400)\n",
      "training\\1st_manual\\22_manual1.jpg (200, 400, 400, 600)\n",
      "training\\1st_manual\\22_manual1.jpg (400, 0, 600, 200)\n",
      "training\\1st_manual\\22_manual1.jpg (400, 200, 600, 400)\n",
      "training\\1st_manual\\22_manual1.jpg (400, 400, 600, 600)\n",
      "training\\1st_manual\\23_manual1.jpg (0, 0, 200, 200)\n",
      "training\\1st_manual\\23_manual1.jpg (0, 200, 200, 400)\n",
      "training\\1st_manual\\23_manual1.jpg (0, 400, 200, 600)\n",
      "training\\1st_manual\\23_manual1.jpg (200, 0, 400, 200)\n",
      "training\\1st_manual\\23_manual1.jpg (200, 200, 400, 400)\n",
      "training\\1st_manual\\23_manual1.jpg (200, 400, 400, 600)\n",
      "training\\1st_manual\\23_manual1.jpg (400, 0, 600, 200)\n",
      "training\\1st_manual\\23_manual1.jpg (400, 200, 600, 400)\n",
      "training\\1st_manual\\23_manual1.jpg (400, 400, 600, 600)\n",
      "training\\1st_manual\\24_manual1.jpg (0, 0, 200, 200)\n",
      "training\\1st_manual\\24_manual1.jpg (0, 200, 200, 400)\n",
      "training\\1st_manual\\24_manual1.jpg (0, 400, 200, 600)\n",
      "training\\1st_manual\\24_manual1.jpg (200, 0, 400, 200)\n",
      "training\\1st_manual\\24_manual1.jpg (200, 200, 400, 400)\n",
      "training\\1st_manual\\24_manual1.jpg (200, 400, 400, 600)\n",
      "training\\1st_manual\\24_manual1.jpg (400, 0, 600, 200)\n",
      "training\\1st_manual\\24_manual1.jpg (400, 200, 600, 400)\n",
      "training\\1st_manual\\24_manual1.jpg (400, 400, 600, 600)\n",
      "training\\1st_manual\\25_manual1.jpg (0, 0, 200, 200)\n",
      "training\\1st_manual\\25_manual1.jpg (0, 200, 200, 400)\n",
      "training\\1st_manual\\25_manual1.jpg (0, 400, 200, 600)\n",
      "training\\1st_manual\\25_manual1.jpg (200, 0, 400, 200)\n",
      "training\\1st_manual\\25_manual1.jpg (200, 200, 400, 400)\n",
      "training\\1st_manual\\25_manual1.jpg (200, 400, 400, 600)\n",
      "training\\1st_manual\\25_manual1.jpg (400, 0, 600, 200)\n",
      "training\\1st_manual\\25_manual1.jpg (400, 200, 600, 400)\n",
      "training\\1st_manual\\25_manual1.jpg (400, 400, 600, 600)\n",
      "training\\1st_manual\\26_manual1.jpg (0, 0, 200, 200)\n",
      "training\\1st_manual\\26_manual1.jpg (0, 200, 200, 400)\n",
      "training\\1st_manual\\26_manual1.jpg (0, 400, 200, 600)\n",
      "training\\1st_manual\\26_manual1.jpg (200, 0, 400, 200)\n",
      "training\\1st_manual\\26_manual1.jpg (200, 200, 400, 400)\n",
      "training\\1st_manual\\26_manual1.jpg (200, 400, 400, 600)\n",
      "training\\1st_manual\\26_manual1.jpg (400, 0, 600, 200)\n",
      "training\\1st_manual\\26_manual1.jpg (400, 200, 600, 400)\n",
      "training\\1st_manual\\26_manual1.jpg (400, 400, 600, 600)\n",
      "training\\1st_manual\\27_manual1.jpg (0, 0, 200, 200)\n",
      "training\\1st_manual\\27_manual1.jpg (0, 200, 200, 400)\n",
      "training\\1st_manual\\27_manual1.jpg (0, 400, 200, 600)\n",
      "training\\1st_manual\\27_manual1.jpg (200, 0, 400, 200)\n",
      "training\\1st_manual\\27_manual1.jpg (200, 200, 400, 400)\n",
      "training\\1st_manual\\27_manual1.jpg (200, 400, 400, 600)\n",
      "training\\1st_manual\\27_manual1.jpg (400, 0, 600, 200)\n",
      "training\\1st_manual\\27_manual1.jpg (400, 200, 600, 400)\n",
      "training\\1st_manual\\27_manual1.jpg (400, 400, 600, 600)\n",
      "training\\1st_manual\\28_manual1.jpg (0, 0, 200, 200)\n",
      "training\\1st_manual\\28_manual1.jpg (0, 200, 200, 400)\n",
      "training\\1st_manual\\28_manual1.jpg (0, 400, 200, 600)\n",
      "training\\1st_manual\\28_manual1.jpg (200, 0, 400, 200)\n",
      "training\\1st_manual\\28_manual1.jpg (200, 200, 400, 400)\n",
      "training\\1st_manual\\28_manual1.jpg (200, 400, 400, 600)\n",
      "training\\1st_manual\\28_manual1.jpg (400, 0, 600, 200)\n",
      "training\\1st_manual\\28_manual1.jpg (400, 200, 600, 400)\n",
      "training\\1st_manual\\28_manual1.jpg (400, 400, 600, 600)\n",
      "training\\1st_manual\\29_manual1.jpg (0, 0, 200, 200)\n",
      "training\\1st_manual\\29_manual1.jpg (0, 200, 200, 400)\n",
      "training\\1st_manual\\29_manual1.jpg (0, 400, 200, 600)\n",
      "training\\1st_manual\\29_manual1.jpg (200, 0, 400, 200)\n",
      "training\\1st_manual\\29_manual1.jpg (200, 200, 400, 400)\n",
      "training\\1st_manual\\29_manual1.jpg (200, 400, 400, 600)\n",
      "training\\1st_manual\\29_manual1.jpg (400, 0, 600, 200)\n",
      "training\\1st_manual\\29_manual1.jpg (400, 200, 600, 400)\n",
      "training\\1st_manual\\29_manual1.jpg (400, 400, 600, 600)\n",
      "training\\1st_manual\\30_manual1.jpg (0, 0, 200, 200)\n",
      "training\\1st_manual\\30_manual1.jpg (0, 200, 200, 400)\n",
      "training\\1st_manual\\30_manual1.jpg (0, 400, 200, 600)\n",
      "training\\1st_manual\\30_manual1.jpg (200, 0, 400, 200)\n",
      "training\\1st_manual\\30_manual1.jpg (200, 200, 400, 400)\n",
      "training\\1st_manual\\30_manual1.jpg (200, 400, 400, 600)\n",
      "training\\1st_manual\\30_manual1.jpg (400, 0, 600, 200)\n",
      "training\\1st_manual\\30_manual1.jpg (400, 200, 600, 400)\n",
      "training\\1st_manual\\30_manual1.jpg (400, 400, 600, 600)\n",
      "training\\1st_manual\\31_manual1.jpg (0, 0, 200, 200)\n",
      "training\\1st_manual\\31_manual1.jpg (0, 200, 200, 400)\n",
      "training\\1st_manual\\31_manual1.jpg (0, 400, 200, 600)\n",
      "training\\1st_manual\\31_manual1.jpg (200, 0, 400, 200)\n",
      "training\\1st_manual\\31_manual1.jpg (200, 200, 400, 400)\n",
      "training\\1st_manual\\31_manual1.jpg (200, 400, 400, 600)\n",
      "training\\1st_manual\\31_manual1.jpg (400, 0, 600, 200)\n",
      "training\\1st_manual\\31_manual1.jpg (400, 200, 600, 400)\n",
      "training\\1st_manual\\31_manual1.jpg (400, 400, 600, 600)\n",
      "training\\1st_manual\\32_manual1.jpg (0, 0, 200, 200)\n",
      "training\\1st_manual\\32_manual1.jpg (0, 200, 200, 400)\n",
      "training\\1st_manual\\32_manual1.jpg (0, 400, 200, 600)\n",
      "training\\1st_manual\\32_manual1.jpg (200, 0, 400, 200)\n",
      "training\\1st_manual\\32_manual1.jpg (200, 200, 400, 400)\n",
      "training\\1st_manual\\32_manual1.jpg (200, 400, 400, 600)\n",
      "training\\1st_manual\\32_manual1.jpg (400, 0, 600, 200)\n",
      "training\\1st_manual\\32_manual1.jpg (400, 200, 600, 400)\n",
      "training\\1st_manual\\32_manual1.jpg (400, 400, 600, 600)\n",
      "training\\1st_manual\\33_manual1.jpg (0, 0, 200, 200)\n",
      "training\\1st_manual\\33_manual1.jpg (0, 200, 200, 400)\n",
      "training\\1st_manual\\33_manual1.jpg (0, 400, 200, 600)\n",
      "training\\1st_manual\\33_manual1.jpg (200, 0, 400, 200)\n",
      "training\\1st_manual\\33_manual1.jpg (200, 200, 400, 400)\n",
      "training\\1st_manual\\33_manual1.jpg (200, 400, 400, 600)\n",
      "training\\1st_manual\\33_manual1.jpg (400, 0, 600, 200)\n",
      "training\\1st_manual\\33_manual1.jpg (400, 200, 600, 400)\n",
      "training\\1st_manual\\33_manual1.jpg (400, 400, 600, 600)\n",
      "training\\1st_manual\\34_manual1.jpg (0, 0, 200, 200)\n",
      "training\\1st_manual\\34_manual1.jpg (0, 200, 200, 400)\n",
      "training\\1st_manual\\34_manual1.jpg (0, 400, 200, 600)\n",
      "training\\1st_manual\\34_manual1.jpg (200, 0, 400, 200)\n",
      "training\\1st_manual\\34_manual1.jpg (200, 200, 400, 400)\n",
      "training\\1st_manual\\34_manual1.jpg (200, 400, 400, 600)\n",
      "training\\1st_manual\\34_manual1.jpg (400, 0, 600, 200)\n",
      "training\\1st_manual\\34_manual1.jpg (400, 200, 600, 400)\n",
      "training\\1st_manual\\34_manual1.jpg (400, 400, 600, 600)\n",
      "training\\1st_manual\\35_manual1.jpg (0, 0, 200, 200)\n",
      "training\\1st_manual\\35_manual1.jpg (0, 200, 200, 400)\n",
      "training\\1st_manual\\35_manual1.jpg (0, 400, 200, 600)\n",
      "training\\1st_manual\\35_manual1.jpg (200, 0, 400, 200)\n",
      "training\\1st_manual\\35_manual1.jpg (200, 200, 400, 400)\n",
      "training\\1st_manual\\35_manual1.jpg (200, 400, 400, 600)\n",
      "training\\1st_manual\\35_manual1.jpg (400, 0, 600, 200)\n",
      "training\\1st_manual\\35_manual1.jpg (400, 200, 600, 400)\n",
      "training\\1st_manual\\35_manual1.jpg (400, 400, 600, 600)\n",
      "training\\1st_manual\\36_manual1.jpg (0, 0, 200, 200)\n",
      "training\\1st_manual\\36_manual1.jpg (0, 200, 200, 400)\n",
      "training\\1st_manual\\36_manual1.jpg (0, 400, 200, 600)\n",
      "training\\1st_manual\\36_manual1.jpg (200, 0, 400, 200)\n",
      "training\\1st_manual\\36_manual1.jpg (200, 200, 400, 400)\n",
      "training\\1st_manual\\36_manual1.jpg (200, 400, 400, 600)\n",
      "training\\1st_manual\\36_manual1.jpg (400, 0, 600, 200)\n",
      "training\\1st_manual\\36_manual1.jpg (400, 200, 600, 400)\n",
      "training\\1st_manual\\36_manual1.jpg (400, 400, 600, 600)\n",
      "training\\1st_manual\\37_manual1.jpg (0, 0, 200, 200)\n",
      "training\\1st_manual\\37_manual1.jpg (0, 200, 200, 400)\n",
      "training\\1st_manual\\37_manual1.jpg (0, 400, 200, 600)\n",
      "training\\1st_manual\\37_manual1.jpg (200, 0, 400, 200)\n",
      "training\\1st_manual\\37_manual1.jpg (200, 200, 400, 400)\n",
      "training\\1st_manual\\37_manual1.jpg (200, 400, 400, 600)\n",
      "training\\1st_manual\\37_manual1.jpg (400, 0, 600, 200)\n",
      "training\\1st_manual\\37_manual1.jpg (400, 200, 600, 400)\n",
      "training\\1st_manual\\37_manual1.jpg (400, 400, 600, 600)\n",
      "training\\1st_manual\\38_manual1.jpg (0, 0, 200, 200)\n",
      "training\\1st_manual\\38_manual1.jpg (0, 200, 200, 400)\n",
      "training\\1st_manual\\38_manual1.jpg (0, 400, 200, 600)\n",
      "training\\1st_manual\\38_manual1.jpg (200, 0, 400, 200)\n",
      "training\\1st_manual\\38_manual1.jpg (200, 200, 400, 400)\n",
      "training\\1st_manual\\38_manual1.jpg (200, 400, 400, 600)\n",
      "training\\1st_manual\\38_manual1.jpg (400, 0, 600, 200)\n",
      "training\\1st_manual\\38_manual1.jpg (400, 200, 600, 400)\n",
      "training\\1st_manual\\38_manual1.jpg (400, 400, 600, 600)\n",
      "training\\1st_manual\\39_manual1.jpg (0, 0, 200, 200)\n",
      "training\\1st_manual\\39_manual1.jpg (0, 200, 200, 400)\n",
      "training\\1st_manual\\39_manual1.jpg (0, 400, 200, 600)\n",
      "training\\1st_manual\\39_manual1.jpg (200, 0, 400, 200)\n",
      "training\\1st_manual\\39_manual1.jpg (200, 200, 400, 400)\n",
      "training\\1st_manual\\39_manual1.jpg (200, 400, 400, 600)\n",
      "training\\1st_manual\\39_manual1.jpg (400, 0, 600, 200)\n",
      "training\\1st_manual\\39_manual1.jpg (400, 200, 600, 400)\n",
      "training\\1st_manual\\39_manual1.jpg (400, 400, 600, 600)\n"
     ]
    },
    {
     "name": "stdout",
     "output_type": "stream",
     "text": [
      "training\\1st_manual\\40_manual1.jpg (0, 0, 200, 200)\n",
      "training\\1st_manual\\40_manual1.jpg (0, 200, 200, 400)\n",
      "training\\1st_manual\\40_manual1.jpg (0, 400, 200, 600)\n",
      "training\\1st_manual\\40_manual1.jpg (200, 0, 400, 200)\n",
      "training\\1st_manual\\40_manual1.jpg (200, 200, 400, 400)\n",
      "training\\1st_manual\\40_manual1.jpg (200, 400, 400, 600)\n",
      "training\\1st_manual\\40_manual1.jpg (400, 0, 600, 200)\n",
      "training\\1st_manual\\40_manual1.jpg (400, 200, 600, 400)\n",
      "training\\1st_manual\\40_manual1.jpg (400, 400, 600, 600)\n"
     ]
    }
   ],
   "source": [
    "cropheight=200\n",
    "cropwidth = 200\n",
    "k=-1\n",
    "for file in mask:\n",
    "    k+=1\n",
    "    im = Image.open(mask[k])\n",
    "    width, height = im.size\n",
    "    for i in range(0, width, cropwidth):\n",
    "     for j in range(0, height, cropheight): \n",
    "       box = (i, j,i+cropwidth, j+cropheight)\n",
    "       print('%s %s' % (mask[k], box))\n",
    "       im.crop(box).save('%s.width%03d.height%03d.tif' % (mask[k], i, j))\n",
    "       files = [i for i in os.listdir(src1) if i.endswith(\".tif\") and path.isfile(path.join(src1, i))]\n",
    "       for f in files:\n",
    "        shutil.move(path.join(src1, f), dst1)"
   ]
  },
  {
   "cell_type": "code",
   "execution_count": 9,
   "id": "voluntary-biography",
   "metadata": {},
   "outputs": [],
   "source": [
    "PATH1 = 'training'"
   ]
  },
  {
   "cell_type": "code",
   "execution_count": 10,
   "id": "f11c8c8f",
   "metadata": {},
   "outputs": [],
   "source": [
    "images=glob.glob(os.path.join(PATH1,'output_images','*.tiff'))\n",
    "mask=glob.glob(os.path.join(PATH1,'output_1st_manual','*.tif'))"
   ]
  },
  {
   "cell_type": "code",
   "execution_count": 11,
   "id": "abb778fe",
   "metadata": {},
   "outputs": [],
   "source": [
    "def get_data(path, resize_dim=512):\n",
    "    img=cv2.imread(path)\n",
    "    img_rz=cv2.resize(img,(resize_dim,resize_dim),interpolation=cv2.INTER_AREA)\n",
    "    return img_rz"
   ]
  },
  {
   "cell_type": "code",
   "execution_count": 12,
   "id": "56fa505c",
   "metadata": {},
   "outputs": [],
   "source": [
    "def get_data_gif(path, resize_dim=512):\n",
    "    img=plt.imread(path)\n",
    "    img_rz=cv2.resize(img,(resize_dim,resize_dim),interpolation=cv2.INTER_AREA)\n",
    "    return img_rz"
   ]
  },
  {
   "cell_type": "code",
   "execution_count": 13,
   "id": "103209c1",
   "metadata": {},
   "outputs": [
    {
     "data": {
      "text/plain": [
       "(180, 512, 512, 3)"
      ]
     },
     "execution_count": 13,
     "metadata": {},
     "output_type": "execute_result"
    }
   ],
   "source": [
    "orig_images=np.array([get_data(path) for path in images])\n",
    "orig_images.shape"
   ]
  },
  {
   "cell_type": "code",
   "execution_count": 14,
   "id": "1bbddda7",
   "metadata": {},
   "outputs": [
    {
     "data": {
      "text/plain": [
       "<matplotlib.image.AxesImage at 0x21928b7cf98>"
      ]
     },
     "execution_count": 14,
     "metadata": {},
     "output_type": "execute_result"
    },
    {
     "data": {
      "image/png": "[encoded data removed]",
      "text/plain": [
       "<Figure size 432x288 with 1 Axes>"
      ]
     },
     "metadata": {
      "needs_background": "light"
     },
     "output_type": "display_data"
    }
   ],
   "source": [
    "plt.imshow(orig_images[1])"
   ]
  },
  {
   "cell_type": "code",
   "execution_count": 15,
   "id": "254b1551",
   "metadata": {},
   "outputs": [
    {
     "data": {
      "text/plain": [
       "(180, 512, 512, 3)"
      ]
     },
     "execution_count": 15,
     "metadata": {},
     "output_type": "execute_result"
    }
   ],
   "source": [
    "masks=np.array([get_data_gif(path) for path in mask])\n",
    "masks.shape "
   ]
  },
  {
   "cell_type": "code",
   "execution_count": 16,
   "id": "75a0dfd8",
   "metadata": {},
   "outputs": [
    {
     "data": {
      "text/plain": [
       "<matplotlib.image.AxesImage at 0x2193133e4a8>"
      ]
     },
     "execution_count": 16,
     "metadata": {},
     "output_type": "execute_result"
    },
    {
     "data": {
      "image/png": "[encoded data removed]",
      "text/plain": [
       "<Figure size 432x288 with 1 Axes>"
      ]
     },
     "metadata": {
      "needs_background": "light"
     },
     "output_type": "display_data"
    }
   ],
   "source": [
    "plt.imshow(masks[1])"
   ]
  },
  {
   "cell_type": "code",
   "execution_count": 17,
   "id": "d5570ec5",
   "metadata": {},
   "outputs": [
    {
     "data": {
      "text/plain": [
       "((180, 512, 512, 3), (180, 512, 512, 3))"
      ]
     },
     "execution_count": 17,
     "metadata": {},
     "output_type": "execute_result"
    }
   ],
   "source": [
    "masks.shape, orig_images.shape"
   ]
  },
  {
   "cell_type": "code",
   "execution_count": 18,
   "id": "0b9be0b8",
   "metadata": {},
   "outputs": [],
   "source": [
    "orig_images = orig_images / 255\n",
    "masks = masks / 255"
   ]
  },
  {
   "cell_type": "code",
   "execution_count": 19,
   "id": "1aa89a67",
   "metadata": {},
   "outputs": [],
   "source": [
    "VGG_Weights_path = \"C:/Users/subah/fcn/vgg16_weights_tf_dim_ordering_tf_kernels_notop.h5\"\n"
   ]
  },
  {
   "cell_type": "code",
   "execution_count": 20,
   "id": "efe9b681",
   "metadata": {},
   "outputs": [],
   "source": [
    "n_classes=3"
   ]
  },
  {
   "cell_type": "code",
   "execution_count": 21,
   "id": "aedc214a",
   "metadata": {
    "scrolled": true
   },
   "outputs": [
    {
     "name": "stdout",
     "output_type": "stream",
     "text": [
      "Model: \"model_2\"\n",
      "__________________________________________________________________________________________________\n",
      "Layer (type)                    Output Shape         Param #     Connected to                     \n",
      "==================================================================================================\n",
      "input_1 (InputLayer)            (None, 512, 512, 3)  0                                            \n",
      "__________________________________________________________________________________________________\n",
      "block1_conv1 (Conv2D)           (None, 512, 512, 64) 1792        input_1[0][0]                    \n",
      "__________________________________________________________________________________________________\n",
      "block1_conv2 (Conv2D)           (None, 512, 512, 64) 36928       block1_conv1[0][0]               \n",
      "__________________________________________________________________________________________________\n",
      "block1_pool (MaxPooling2D)      (None, 256, 256, 64) 0           block1_conv2[0][0]               \n",
      "__________________________________________________________________________________________________\n",
      "block2_conv1 (Conv2D)           (None, 256, 256, 128 73856       block1_pool[0][0]                \n",
      "__________________________________________________________________________________________________\n",
      "block2_conv2 (Conv2D)           (None, 256, 256, 128 147584      block2_conv1[0][0]               \n",
      "__________________________________________________________________________________________________\n",
      "block2_pool (MaxPooling2D)      (None, 128, 128, 128 0           block2_conv2[0][0]               \n",
      "__________________________________________________________________________________________________\n",
      "block3_conv1 (Conv2D)           (None, 128, 128, 256 295168      block2_pool[0][0]                \n",
      "__________________________________________________________________________________________________\n",
      "block3_conv2 (Conv2D)           (None, 128, 128, 256 590080      block3_conv1[0][0]               \n",
      "__________________________________________________________________________________________________\n",
      "block3_conv3 (Conv2D)           (None, 128, 128, 256 590080      block3_conv2[0][0]               \n",
      "__________________________________________________________________________________________________\n",
      "block3_pool (MaxPooling2D)      (None, 64, 64, 256)  0           block3_conv3[0][0]               \n",
      "__________________________________________________________________________________________________\n",
      "block4_conv1 (Conv2D)           (None, 64, 64, 512)  1180160     block3_pool[0][0]                \n",
      "__________________________________________________________________________________________________\n",
      "block4_conv2 (Conv2D)           (None, 64, 64, 512)  2359808     block4_conv1[0][0]               \n",
      "__________________________________________________________________________________________________\n",
      "block4_conv3 (Conv2D)           (None, 64, 64, 512)  2359808     block4_conv2[0][0]               \n",
      "__________________________________________________________________________________________________\n",
      "block4_pool (MaxPooling2D)      (None, 32, 32, 512)  0           block4_conv3[0][0]               \n",
      "__________________________________________________________________________________________________\n",
      "block5_conv1 (Conv2D)           (None, 32, 32, 512)  2359808     block4_pool[0][0]                \n",
      "__________________________________________________________________________________________________\n",
      "block5_conv2 (Conv2D)           (None, 32, 32, 512)  2359808     block5_conv1[0][0]               \n",
      "__________________________________________________________________________________________________\n",
      "block5_conv3 (Conv2D)           (None, 32, 32, 512)  2359808     block5_conv2[0][0]               \n",
      "__________________________________________________________________________________________________\n",
      "block5_pool (MaxPooling2D)      (None, 16, 16, 512)  0           block5_conv3[0][0]               \n",
      "__________________________________________________________________________________________________\n",
      "conv6 (Conv2D)                  (None, 16, 16, 4096) 102764544   block5_pool[0][0]                \n",
      "__________________________________________________________________________________________________\n",
      "pool4_11 (Conv2D)               (None, 32, 32, 3)    1539        block4_pool[0][0]                \n",
      "__________________________________________________________________________________________________\n",
      "conv7 (Conv2D)                  (None, 16, 16, 4096) 16781312    conv6[0][0]                      \n",
      "__________________________________________________________________________________________________\n",
      "conv2d_transpose_2 (Conv2DTrans (None, 64, 64, 3)    36          pool4_11[0][0]                   \n",
      "__________________________________________________________________________________________________\n",
      "pool3_11 (Conv2D)               (None, 64, 64, 3)    771         block3_pool[0][0]                \n",
      "__________________________________________________________________________________________________\n",
      "conv2d_transpose_1 (Conv2DTrans (None, 64, 64, 3)    196608      conv7[0][0]                      \n",
      "__________________________________________________________________________________________________\n",
      "add (Add)                       (None, 64, 64, 3)    0           conv2d_transpose_2[0][0]         \n",
      "                                                                 pool3_11[0][0]                   \n",
      "                                                                 conv2d_transpose_1[0][0]         \n",
      "__________________________________________________________________________________________________\n",
      "conv2d_transpose_3 (Conv2DTrans (None, 512, 512, 3)  576         add[0][0]                        \n",
      "__________________________________________________________________________________________________\n",
      "activation_1 (Activation)       (None, 512, 512, 3)  0           conv2d_transpose_3[0][0]         \n",
      "==================================================================================================\n",
      "Total params: 134,460,074\n",
      "Trainable params: 134,460,074\n",
      "Non-trainable params: 0\n",
      "__________________________________________________________________________________________________\n"
     ]
    }
   ],
   "source": [
    "def FCN8( nClasses ,  input_height=512, input_width=512):\n",
    "    ## input_height and width must be devisible by 32 because maxpooling with filter size = (2,2) is operated 5 times,\n",
    "    ## which makes the input_height and width 2^5 = 32 times smaller\n",
    "    assert input_height%32 == 0\n",
    "    assert input_width%32 == 0\n",
    "    IMAGE_ORDERING =  \"channels_last\" \n",
    "\n",
    "    img_input = Input(shape=(input_height,input_width, 3)) ## Assume 512,512,3\n",
    "    \n",
    "    ## Block 1\n",
    "    x = Conv2D(64, (3, 3), activation='relu', padding='same', name='block1_conv1', data_format=IMAGE_ORDERING )(img_input)\n",
    "    x = Conv2D(64, (3, 3), activation='relu', padding='same', name='block1_conv2', data_format=IMAGE_ORDERING )(x)\n",
    "    x = MaxPooling2D((2, 2), strides=(2, 2), name='block1_pool', data_format=IMAGE_ORDERING )(x)\n",
    "    f1 = x\n",
    "    \n",
    "    # Block 2\n",
    "    x = Conv2D(128, (3, 3), activation='relu', padding='same', name='block2_conv1', data_format=IMAGE_ORDERING )(x)\n",
    "    x = Conv2D(128, (3, 3), activation='relu', padding='same', name='block2_conv2', data_format=IMAGE_ORDERING )(x)\n",
    "    x = MaxPooling2D((2, 2), strides=(2, 2), name='block2_pool', data_format=IMAGE_ORDERING )(x)\n",
    "    f2 = x\n",
    "\n",
    "    # Block 3\n",
    "    x = Conv2D(256, (3, 3), activation='relu', padding='same', name='block3_conv1', data_format=IMAGE_ORDERING )(x)\n",
    "    x = Conv2D(256, (3, 3), activation='relu', padding='same', name='block3_conv2', data_format=IMAGE_ORDERING )(x)\n",
    "    x = Conv2D(256, (3, 3), activation='relu', padding='same', name='block3_conv3', data_format=IMAGE_ORDERING )(x)\n",
    "    x = MaxPooling2D((2, 2), strides=(2, 2), name='block3_pool', data_format=IMAGE_ORDERING )(x)\n",
    "    pool3 = x\n",
    "\n",
    "    # Block 4\n",
    "    x = Conv2D(512, (3, 3), activation='relu', padding='same', name='block4_conv1', data_format=IMAGE_ORDERING )(x)\n",
    "    x = Conv2D(512, (3, 3), activation='relu', padding='same', name='block4_conv2', data_format=IMAGE_ORDERING )(x)\n",
    "    x = Conv2D(512, (3, 3), activation='relu', padding='same', name='block4_conv3', data_format=IMAGE_ORDERING )(x)\n",
    "    pool4 = MaxPooling2D((2, 2), strides=(2, 2), name='block4_pool', data_format=IMAGE_ORDERING )(x)## (None, 14, 14, 512) \n",
    "\n",
    "    # Block 5\n",
    "    x = Conv2D(512, (3, 3), activation='relu', padding='same', name='block5_conv1', data_format=IMAGE_ORDERING )(pool4)\n",
    "    x = Conv2D(512, (3, 3), activation='relu', padding='same', name='block5_conv2', data_format=IMAGE_ORDERING )(x)\n",
    "    x = Conv2D(512, (3, 3), activation='relu', padding='same', name='block5_conv3', data_format=IMAGE_ORDERING )(x)\n",
    "    pool5 = MaxPooling2D((2, 2), strides=(2, 2), name='block5_pool', data_format=IMAGE_ORDERING )(x)## (None, 7, 7, 512)\n",
    "\n",
    "    #x = Flatten(name='flatten')(x)\n",
    "    #x = Dense(4096, activation='relu', name='fc1')(x)\n",
    "    # <--> o = ( Conv2D( 4096 , ( 7 , 7 ) , activation='relu' , padding='same', data_format=IMAGE_ORDERING))(o)\n",
    "    # assuming that the input_height = input_width = 224 as in VGG data\n",
    "    \n",
    "    #x = Dense(4096, activation='relu', name='fc2')(x)\n",
    "    # <--> o = ( Conv2D( 4096 , ( 1 , 1 ) , activation='relu' , padding='same', data_format=IMAGE_ORDERING))(o)   \n",
    "    # assuming that the input_height = input_width = 224 as in VGG data\n",
    "    \n",
    "    #x = Dense(1000 , activation='softmax', name='predictions')(x)\n",
    "    # <--> o = ( Conv2D( nClasses ,  ( 1 , 1 ) ,kernel_initializer='he_normal' , data_format=IMAGE_ORDERING))(o)\n",
    "    # assuming that the input_height = input_width = 224 as in VGG data\n",
    "    \n",
    "    \n",
    "    vgg  = Model(  img_input , pool5  )\n",
    "    vgg.load_weights(VGG_Weights_path) ## loading VGG weights for the encoder parts of FCN8\n",
    "    \n",
    "    n = 4096\n",
    "    o = ( Conv2D( n , ( 7 , 7 ) , activation='relu' , padding='same', name=\"conv6\", data_format=IMAGE_ORDERING))(pool5)\n",
    "    conv7 = ( Conv2D( n , ( 1 , 1 ) , activation='relu' , padding='same', name=\"conv7\", data_format=IMAGE_ORDERING))(o)\n",
    "    \n",
    "    \n",
    "    ## 4 times upsamping for pool4 layer\n",
    "    conv7_4 = Conv2DTranspose( nClasses , kernel_size=(4,4) ,  strides=(4,4) , use_bias=False, data_format=IMAGE_ORDERING )(conv7)\n",
    "    ## (None, 512, 512, 10)\n",
    "    ## 2 times upsampling for pool411\n",
    "    pool411 = ( Conv2D( nClasses , ( 1 , 1 ) , activation='relu' , padding='same', name=\"pool4_11\", data_format=IMAGE_ORDERING))(pool4)\n",
    "    pool411_2 = (Conv2DTranspose( nClasses , kernel_size=(2,2) ,  strides=(2,2) , use_bias=False, data_format=IMAGE_ORDERING ))(pool411)\n",
    "    \n",
    "    pool311 = ( Conv2D( nClasses , ( 1 , 1 ) , activation='relu' , padding='same', name=\"pool3_11\", data_format=IMAGE_ORDERING))(pool3)\n",
    "        \n",
    "    o = Add(name=\"add\")([pool411_2, pool311, conv7_4 ])\n",
    "    o = Conv2DTranspose( nClasses , kernel_size=(8,8) ,  strides=(8,8) , use_bias=False, data_format=IMAGE_ORDERING )(o)\n",
    "    o = (Activation('softmax'))(o)\n",
    "    \n",
    "    model = Model(img_input, o)\n",
    "\n",
    "    return model\n",
    "\n",
    "model = FCN8(nClasses     = n_classes,  \n",
    "             input_height = 512, \n",
    "             input_width  = 512)\n",
    "model.summary()"
   ]
  },
  {
   "cell_type": "code",
   "execution_count": 22,
   "id": "a943b91c",
   "metadata": {},
   "outputs": [
    {
     "name": "stdout",
     "output_type": "stream",
     "text": [
      "WARNING:tensorflow:From C:\\Users\\subah\\anaconda3\\envs\\py36\\lib\\site-packages\\tensorflow\\python\\ops\\math_grad.py:1250: add_dispatch_support.<locals>.wrapper (from tensorflow.python.ops.array_ops) is deprecated and will be removed in a future version.\n",
      "Instructions for updating:\n",
      "Use tf.where in 2.0, which has the same broadcast rule as np.where\n",
      "Train on 162 samples, validate on 18 samples\n",
      "Epoch 1/10\n",
      "162/162 [==============================] - 500s 3s/step - loss: 0.4672 - accuracy: 0.7542 - val_loss: 0.4576 - val_accuracy: 0.7731\n",
      "Epoch 2/10\n",
      "162/162 [==============================] - 499s 3s/step - loss: 0.4615 - accuracy: 0.7639 - val_loss: 0.4576 - val_accuracy: 0.7731\n",
      "Epoch 3/10\n",
      "162/162 [==============================] - 509s 3s/step - loss: 0.4615 - accuracy: 0.7639 - val_loss: 0.4576 - val_accuracy: 0.7731\n",
      "Epoch 4/10\n",
      "162/162 [==============================] - 503s 3s/step - loss: 0.4615 - accuracy: 0.7639 - val_loss: 0.4576 - val_accuracy: 0.7731\n",
      "Epoch 5/10\n",
      "162/162 [==============================] - 508s 3s/step - loss: 0.4615 - accuracy: 0.7639 - val_loss: 0.4576 - val_accuracy: 0.7731\n",
      "Epoch 6/10\n",
      "162/162 [==============================] - 515s 3s/step - loss: 0.4615 - accuracy: 0.7639 - val_loss: 0.4576 - val_accuracy: 0.7731\n",
      "Epoch 7/10\n",
      "162/162 [==============================] - 505s 3s/step - loss: 0.4615 - accuracy: 0.7639 - val_loss: 0.4576 - val_accuracy: 0.7731\n",
      "Epoch 8/10\n",
      "162/162 [==============================] - 542s 3s/step - loss: 0.4615 - accuracy: 0.7639 - val_loss: 0.4576 - val_accuracy: 0.7731\n",
      "Epoch 9/10\n",
      "162/162 [==============================] - 563s 3s/step - loss: 0.4615 - accuracy: 0.7639 - val_loss: 0.4576 - val_accuracy: 0.7731\n",
      "Epoch 10/10\n",
      "162/162 [==============================] - 514s 3s/step - loss: 0.4615 - accuracy: 0.7639 - val_loss: 0.4576 - val_accuracy: 0.7731\n"
     ]
    },
    {
     "data": {
      "text/plain": [
       "<keras.callbacks.callbacks.History at 0x21917465160>"
      ]
     },
     "execution_count": 22,
     "metadata": {},
     "output_type": "execute_result"
    }
   ],
   "source": [
    "model.compile(optimizer=Adam(lr=1e-4), loss='binary_crossentropy', metrics=['accuracy'])\n",
    "\n",
    "model.fit(orig_images, masks, epochs = 10, batch_size= 16 , shuffle = True, validation_split = 0.1)"
   ]
  },
  {
   "cell_type": "code",
   "execution_count": 23,
   "id": "fourth-prairie",
   "metadata": {},
   "outputs": [],
   "source": [
    "PATH2 = 'test'"
   ]
  },
  {
   "cell_type": "code",
   "execution_count": 24,
   "id": "consistent-solomon",
   "metadata": {},
   "outputs": [],
   "source": [
    "t_images=glob.glob(os.path.join(PATH2,'images','*.tif'))"
   ]
  },
  {
   "cell_type": "code",
   "execution_count": 25,
   "id": "auburn-deputy",
   "metadata": {},
   "outputs": [],
   "source": [
    "if not os.path.exists('./test/output_images'):\n",
    "    os.makedirs('./test/output_images')\n",
    "src = \"./test/images/\"\n",
    "dst = \"./test/output_images/\""
   ]
  },
  {
   "cell_type": "code",
   "execution_count": 26,
   "id": "disturbed-ottawa",
   "metadata": {},
   "outputs": [
    {
     "name": "stdout",
     "output_type": "stream",
     "text": [
      "test\\images\\01_test.tif (0, 0, 200, 200)\n",
      "test\\images\\01_test.tif (0, 200, 200, 400)\n",
      "test\\images\\01_test.tif (0, 400, 200, 600)\n",
      "test\\images\\01_test.tif (200, 0, 400, 200)\n",
      "test\\images\\01_test.tif (200, 200, 400, 400)\n",
      "test\\images\\01_test.tif (200, 400, 400, 600)\n",
      "test\\images\\01_test.tif (400, 0, 600, 200)\n",
      "test\\images\\01_test.tif (400, 200, 600, 400)\n",
      "test\\images\\01_test.tif (400, 400, 600, 600)\n",
      "test\\images\\02_test.tif (0, 0, 200, 200)\n",
      "test\\images\\02_test.tif (0, 200, 200, 400)\n",
      "test\\images\\02_test.tif (0, 400, 200, 600)\n",
      "test\\images\\02_test.tif (200, 0, 400, 200)\n",
      "test\\images\\02_test.tif (200, 200, 400, 400)\n",
      "test\\images\\02_test.tif (200, 400, 400, 600)\n",
      "test\\images\\02_test.tif (400, 0, 600, 200)\n",
      "test\\images\\02_test.tif (400, 200, 600, 400)\n",
      "test\\images\\02_test.tif (400, 400, 600, 600)\n",
      "test\\images\\03_test.tif (0, 0, 200, 200)\n",
      "test\\images\\03_test.tif (0, 200, 200, 400)\n",
      "test\\images\\03_test.tif (0, 400, 200, 600)\n",
      "test\\images\\03_test.tif (200, 0, 400, 200)\n",
      "test\\images\\03_test.tif (200, 200, 400, 400)\n",
      "test\\images\\03_test.tif (200, 400, 400, 600)\n",
      "test\\images\\03_test.tif (400, 0, 600, 200)\n",
      "test\\images\\03_test.tif (400, 200, 600, 400)\n",
      "test\\images\\03_test.tif (400, 400, 600, 600)\n",
      "test\\images\\04_test.tif (0, 0, 200, 200)\n",
      "test\\images\\04_test.tif (0, 200, 200, 400)\n",
      "test\\images\\04_test.tif (0, 400, 200, 600)\n",
      "test\\images\\04_test.tif (200, 0, 400, 200)\n",
      "test\\images\\04_test.tif (200, 200, 400, 400)\n",
      "test\\images\\04_test.tif (200, 400, 400, 600)\n",
      "test\\images\\04_test.tif (400, 0, 600, 200)\n",
      "test\\images\\04_test.tif (400, 200, 600, 400)\n",
      "test\\images\\04_test.tif (400, 400, 600, 600)\n",
      "test\\images\\05_test.tif (0, 0, 200, 200)\n",
      "test\\images\\05_test.tif (0, 200, 200, 400)\n",
      "test\\images\\05_test.tif (0, 400, 200, 600)\n",
      "test\\images\\05_test.tif (200, 0, 400, 200)\n",
      "test\\images\\05_test.tif (200, 200, 400, 400)\n",
      "test\\images\\05_test.tif (200, 400, 400, 600)\n",
      "test\\images\\05_test.tif (400, 0, 600, 200)\n",
      "test\\images\\05_test.tif (400, 200, 600, 400)\n",
      "test\\images\\05_test.tif (400, 400, 600, 600)\n",
      "test\\images\\06_test.tif (0, 0, 200, 200)\n",
      "test\\images\\06_test.tif (0, 200, 200, 400)\n",
      "test\\images\\06_test.tif (0, 400, 200, 600)\n",
      "test\\images\\06_test.tif (200, 0, 400, 200)\n",
      "test\\images\\06_test.tif (200, 200, 400, 400)\n",
      "test\\images\\06_test.tif (200, 400, 400, 600)\n",
      "test\\images\\06_test.tif (400, 0, 600, 200)\n",
      "test\\images\\06_test.tif (400, 200, 600, 400)\n",
      "test\\images\\06_test.tif (400, 400, 600, 600)\n",
      "test\\images\\07_test.tif (0, 0, 200, 200)\n",
      "test\\images\\07_test.tif (0, 200, 200, 400)\n",
      "test\\images\\07_test.tif (0, 400, 200, 600)\n",
      "test\\images\\07_test.tif (200, 0, 400, 200)\n",
      "test\\images\\07_test.tif (200, 200, 400, 400)\n",
      "test\\images\\07_test.tif (200, 400, 400, 600)\n",
      "test\\images\\07_test.tif (400, 0, 600, 200)\n",
      "test\\images\\07_test.tif (400, 200, 600, 400)\n",
      "test\\images\\07_test.tif (400, 400, 600, 600)\n",
      "test\\images\\08_test.tif (0, 0, 200, 200)\n",
      "test\\images\\08_test.tif (0, 200, 200, 400)\n",
      "test\\images\\08_test.tif (0, 400, 200, 600)\n",
      "test\\images\\08_test.tif (200, 0, 400, 200)\n",
      "test\\images\\08_test.tif (200, 200, 400, 400)\n",
      "test\\images\\08_test.tif (200, 400, 400, 600)\n",
      "test\\images\\08_test.tif (400, 0, 600, 200)\n",
      "test\\images\\08_test.tif (400, 200, 600, 400)\n",
      "test\\images\\08_test.tif (400, 400, 600, 600)\n",
      "test\\images\\09_test.tif (0, 0, 200, 200)\n",
      "test\\images\\09_test.tif (0, 200, 200, 400)\n",
      "test\\images\\09_test.tif (0, 400, 200, 600)\n",
      "test\\images\\09_test.tif (200, 0, 400, 200)\n",
      "test\\images\\09_test.tif (200, 200, 400, 400)\n",
      "test\\images\\09_test.tif (200, 400, 400, 600)\n",
      "test\\images\\09_test.tif (400, 0, 600, 200)\n",
      "test\\images\\09_test.tif (400, 200, 600, 400)\n",
      "test\\images\\09_test.tif (400, 400, 600, 600)\n",
      "test\\images\\10_test.tif (0, 0, 200, 200)\n",
      "test\\images\\10_test.tif (0, 200, 200, 400)\n",
      "test\\images\\10_test.tif (0, 400, 200, 600)\n",
      "test\\images\\10_test.tif (200, 0, 400, 200)\n",
      "test\\images\\10_test.tif (200, 200, 400, 400)\n",
      "test\\images\\10_test.tif (200, 400, 400, 600)\n",
      "test\\images\\10_test.tif (400, 0, 600, 200)\n",
      "test\\images\\10_test.tif (400, 200, 600, 400)\n",
      "test\\images\\10_test.tif (400, 400, 600, 600)\n",
      "test\\images\\11_test.tif (0, 0, 200, 200)\n",
      "test\\images\\11_test.tif (0, 200, 200, 400)\n",
      "test\\images\\11_test.tif (0, 400, 200, 600)\n",
      "test\\images\\11_test.tif (200, 0, 400, 200)\n",
      "test\\images\\11_test.tif (200, 200, 400, 400)\n",
      "test\\images\\11_test.tif (200, 400, 400, 600)\n",
      "test\\images\\11_test.tif (400, 0, 600, 200)\n",
      "test\\images\\11_test.tif (400, 200, 600, 400)\n",
      "test\\images\\11_test.tif (400, 400, 600, 600)\n",
      "test\\images\\12_test.tif (0, 0, 200, 200)\n",
      "test\\images\\12_test.tif (0, 200, 200, 400)\n",
      "test\\images\\12_test.tif (0, 400, 200, 600)\n",
      "test\\images\\12_test.tif (200, 0, 400, 200)\n",
      "test\\images\\12_test.tif (200, 200, 400, 400)\n",
      "test\\images\\12_test.tif (200, 400, 400, 600)\n",
      "test\\images\\12_test.tif (400, 0, 600, 200)\n",
      "test\\images\\12_test.tif (400, 200, 600, 400)\n",
      "test\\images\\12_test.tif (400, 400, 600, 600)\n",
      "test\\images\\13_test.tif (0, 0, 200, 200)\n",
      "test\\images\\13_test.tif (0, 200, 200, 400)\n",
      "test\\images\\13_test.tif (0, 400, 200, 600)\n",
      "test\\images\\13_test.tif (200, 0, 400, 200)\n",
      "test\\images\\13_test.tif (200, 200, 400, 400)\n",
      "test\\images\\13_test.tif (200, 400, 400, 600)\n",
      "test\\images\\13_test.tif (400, 0, 600, 200)\n",
      "test\\images\\13_test.tif (400, 200, 600, 400)\n",
      "test\\images\\13_test.tif (400, 400, 600, 600)\n",
      "test\\images\\14_test.tif (0, 0, 200, 200)\n",
      "test\\images\\14_test.tif (0, 200, 200, 400)\n",
      "test\\images\\14_test.tif (0, 400, 200, 600)\n",
      "test\\images\\14_test.tif (200, 0, 400, 200)\n",
      "test\\images\\14_test.tif (200, 200, 400, 400)\n",
      "test\\images\\14_test.tif (200, 400, 400, 600)\n",
      "test\\images\\14_test.tif (400, 0, 600, 200)\n",
      "test\\images\\14_test.tif (400, 200, 600, 400)\n",
      "test\\images\\14_test.tif (400, 400, 600, 600)\n",
      "test\\images\\15_test.tif (0, 0, 200, 200)\n",
      "test\\images\\15_test.tif (0, 200, 200, 400)\n",
      "test\\images\\15_test.tif (0, 400, 200, 600)\n",
      "test\\images\\15_test.tif (200, 0, 400, 200)\n",
      "test\\images\\15_test.tif (200, 200, 400, 400)\n",
      "test\\images\\15_test.tif (200, 400, 400, 600)\n",
      "test\\images\\15_test.tif (400, 0, 600, 200)\n",
      "test\\images\\15_test.tif (400, 200, 600, 400)\n",
      "test\\images\\15_test.tif (400, 400, 600, 600)\n",
      "test\\images\\16_test.tif (0, 0, 200, 200)\n",
      "test\\images\\16_test.tif (0, 200, 200, 400)\n",
      "test\\images\\16_test.tif (0, 400, 200, 600)\n",
      "test\\images\\16_test.tif (200, 0, 400, 200)\n",
      "test\\images\\16_test.tif (200, 200, 400, 400)\n",
      "test\\images\\16_test.tif (200, 400, 400, 600)\n",
      "test\\images\\16_test.tif (400, 0, 600, 200)\n",
      "test\\images\\16_test.tif (400, 200, 600, 400)\n",
      "test\\images\\16_test.tif (400, 400, 600, 600)\n",
      "test\\images\\17_test.tif (0, 0, 200, 200)\n",
      "test\\images\\17_test.tif (0, 200, 200, 400)\n",
      "test\\images\\17_test.tif (0, 400, 200, 600)\n",
      "test\\images\\17_test.tif (200, 0, 400, 200)\n",
      "test\\images\\17_test.tif (200, 200, 400, 400)\n",
      "test\\images\\17_test.tif (200, 400, 400, 600)\n",
      "test\\images\\17_test.tif (400, 0, 600, 200)\n",
      "test\\images\\17_test.tif (400, 200, 600, 400)\n",
      "test\\images\\17_test.tif (400, 400, 600, 600)\n",
      "test\\images\\18_test.tif (0, 0, 200, 200)\n",
      "test\\images\\18_test.tif (0, 200, 200, 400)\n",
      "test\\images\\18_test.tif (0, 400, 200, 600)\n",
      "test\\images\\18_test.tif (200, 0, 400, 200)\n",
      "test\\images\\18_test.tif (200, 200, 400, 400)\n",
      "test\\images\\18_test.tif (200, 400, 400, 600)\n",
      "test\\images\\18_test.tif (400, 0, 600, 200)\n",
      "test\\images\\18_test.tif (400, 200, 600, 400)\n",
      "test\\images\\18_test.tif (400, 400, 600, 600)\n",
      "test\\images\\19_test.tif (0, 0, 200, 200)\n",
      "test\\images\\19_test.tif (0, 200, 200, 400)\n",
      "test\\images\\19_test.tif (0, 400, 200, 600)\n",
      "test\\images\\19_test.tif (200, 0, 400, 200)\n",
      "test\\images\\19_test.tif (200, 200, 400, 400)\n",
      "test\\images\\19_test.tif (200, 400, 400, 600)\n",
      "test\\images\\19_test.tif (400, 0, 600, 200)\n",
      "test\\images\\19_test.tif (400, 200, 600, 400)\n",
      "test\\images\\19_test.tif (400, 400, 600, 600)\n",
      "test\\images\\20_test.tif (0, 0, 200, 200)\n",
      "test\\images\\20_test.tif (0, 200, 200, 400)\n",
      "test\\images\\20_test.tif (0, 400, 200, 600)\n",
      "test\\images\\20_test.tif (200, 0, 400, 200)\n",
      "test\\images\\20_test.tif (200, 200, 400, 400)\n",
      "test\\images\\20_test.tif (200, 400, 400, 600)\n",
      "test\\images\\20_test.tif (400, 0, 600, 200)\n",
      "test\\images\\20_test.tif (400, 200, 600, 400)\n",
      "test\\images\\20_test.tif (400, 400, 600, 600)\n"
     ]
    }
   ],
   "source": [
    "cropheight=200\n",
    "cropwidth = 200\n",
    "k=-1\n",
    "for file in t_images:\n",
    "    k+=1\n",
    "    im = Image.open(t_images[k])\n",
    "    width, height = im.size\n",
    "    for i in range(0, width, cropwidth):\n",
    "     for j in range(0, height, cropheight): \n",
    "       box = (i, j,i+cropwidth, j+cropheight)\n",
    "       print('%s %s' % (t_images[k], box))\n",
    "       im.crop(box).save('%s.width%03d.height%03d.tiff' % (t_images[k], i, j))\n",
    "       files = [i for i in os.listdir(src) if i.endswith(\".tiff\") and path.isfile(path.join(src, i))]\n",
    "       for f in files:\n",
    "        shutil.move(path.join(src, f), dst)"
   ]
  },
  {
   "cell_type": "code",
   "execution_count": 27,
   "id": "dynamic-distribution",
   "metadata": {},
   "outputs": [],
   "source": [
    "PATH3 = 'test'"
   ]
  },
  {
   "cell_type": "code",
   "execution_count": 28,
   "id": "applicable-waters",
   "metadata": {},
   "outputs": [],
   "source": [
    "t_images=glob.glob(os.path.join(PATH3,'output_images','*.tiff'))"
   ]
  },
  {
   "cell_type": "code",
   "execution_count": 29,
   "id": "motivated-catering",
   "metadata": {},
   "outputs": [
    {
     "data": {
      "text/plain": [
       "(180, 512, 512, 3)"
      ]
     },
     "execution_count": 29,
     "metadata": {},
     "output_type": "execute_result"
    }
   ],
   "source": [
    "test_images=np.array([get_data(path) for path in t_images])\n",
    "test_images.shape"
   ]
  },
  {
   "cell_type": "code",
   "execution_count": 30,
   "id": "palestinian-parliament",
   "metadata": {},
   "outputs": [
    {
     "data": {
      "text/plain": [
       "<matplotlib.image.AxesImage at 0x219272bf390>"
      ]
     },
     "execution_count": 30,
     "metadata": {},
     "output_type": "execute_result"
    },
    {
     "data": {
      "image/png": "[encoded data removed]",
      "text/plain": [
       "<Figure size 432x288 with 1 Axes>"
      ]
     },
     "metadata": {
      "needs_background": "light"
     },
     "output_type": "display_data"
    }
   ],
   "source": [
    "plt.imshow(test_images[0])"
   ]
  },
  {
   "cell_type": "code",
   "execution_count": 31,
   "id": "usual-binding",
   "metadata": {},
   "outputs": [
    {
     "data": {
      "text/plain": [
       "(180, 512, 512, 3)"
      ]
     },
     "execution_count": 31,
     "metadata": {},
     "output_type": "execute_result"
    }
   ],
   "source": [
    "test_images.shape"
   ]
  },
  {
   "cell_type": "code",
   "execution_count": 32,
   "id": "through-chapel",
   "metadata": {},
   "outputs": [],
   "source": [
    "test_images = test_images / 255"
   ]
  },
  {
   "cell_type": "code",
   "execution_count": 1,
   "id": "automated-marsh",
   "metadata": {},
   "outputs": [
    {
     "ename": "NameError",
     "evalue": "name 'model' is not defined",
     "output_type": "error",
     "traceback": [
      "\u001b[1;31m---------------------------------------------------------------------------\u001b[0m",
      "\u001b[1;31mNameError\u001b[0m                                 Traceback (most recent call last)",
      "\u001b[1;32m<ipython-input-1-88b0e31242f5>\u001b[0m in \u001b[0;36m<module>\u001b[1;34m\u001b[0m\n\u001b[1;32m----> 1\u001b[1;33m \u001b[0mimgs_mask_test\u001b[0m \u001b[1;33m=\u001b[0m \u001b[0mmodel\u001b[0m\u001b[1;33m.\u001b[0m\u001b[0mpredict\u001b[0m\u001b[1;33m(\u001b[0m\u001b[0mtest_images\u001b[0m\u001b[1;33m,\u001b[0m \u001b[0mverbose\u001b[0m\u001b[1;33m=\u001b[0m\u001b[1;36m1\u001b[0m\u001b[1;33m)\u001b[0m\u001b[1;33m\u001b[0m\u001b[1;33m\u001b[0m\u001b[0m\n\u001b[0m",
      "\u001b[1;31mNameError\u001b[0m: name 'model' is not defined"
     ]
    }
   ],
   "source": [
    "imgs_mask_test = model.predict(test_images, verbose=1)"
   ]
  },
  {
   "cell_type": "code",
   "execution_count": null,
   "id": "banner-seeking",
   "metadata": {},
   "outputs": [],
   "source": [
    "idx = random.randint(0, len(imgs_mask_test))\n",
    "i = imgs_mask_test[idx]\n",
    "i = i[:, :, 0]\n",
    "i.shape"
   ]
  },
  {
   "cell_type": "code",
   "execution_count": null,
   "id": "patient-nicaragua",
   "metadata": {},
   "outputs": [],
   "source": [
    "plt.imshow(imgs_mask_test[1], cmap='gray')"
   ]
  },
  {
   "cell_type": "code",
   "execution_count": null,
   "id": "thrown-hawaiian",
   "metadata": {},
   "outputs": [],
   "source": [
    "plt.imshow(i, cmap='gray')"
   ]
  },
  {
   "cell_type": "code",
   "execution_count": null,
   "id": "scheduled-gates",
   "metadata": {},
   "outputs": [],
   "source": [
    "yp = np.round(imgs_mask_test,0)"
   ]
  },
  {
   "cell_type": "code",
   "execution_count": null,
   "id": "familiar-boston",
   "metadata": {},
   "outputs": [],
   "source": [
    "idx = random.randint(0, len(yp))\n",
    "i = imgs_mask_test[idx]\n",
    "i = i[:, :, 0]\n",
    "i.shape"
   ]
  },
  {
   "cell_type": "code",
   "execution_count": null,
   "id": "billion-armenia",
   "metadata": {},
   "outputs": [],
   "source": [
    "plt.imshow(i, cmap='gray')"
   ]
  },
  {
   "cell_type": "code",
   "execution_count": null,
   "id": "trained-battlefield",
   "metadata": {},
   "outputs": [],
   "source": []
  }
 ],
 "metadata": {
  "kernelspec": {
   "display_name": "Python 3",
   "language": "python",
   "name": "python3"
  },
  "language_info": {
   "codemirror_mode": {
    "name": "ipython",
    "version": 3
   },
   "file_extension": ".py",
   "mimetype": "text/x-python",
   "name": "python",
   "nbconvert_exporter": "python",
   "pygments_lexer": "ipython3",
   "version": "3.6.12"
  }
 },
 "nbformat": 4,
 "nbformat_minor": 5
}
